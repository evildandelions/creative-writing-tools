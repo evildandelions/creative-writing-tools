{
 "cells": [
  {
   "cell_type": "markdown",
   "metadata": {},
   "source": [
    "<center> \n",
    "    <p style=\"font-size:40px\"><br>Random Sentence Generator</br> \n",
    "    <p style=\"font-size:15px\"> Creates sentences for writing prompts<br>\n",
    "    <b> Author:</b> Kjersti Jacobson\n",
    "</center>"
   ]
  },
  {
   "cell_type": "markdown",
   "metadata": {},
   "source": [
    "<b>[Data]</b><br>\n",
    "Lists containing parts of a sentence. "
   ]
  },
  {
   "cell_type": "code",
   "execution_count": 1,
   "metadata": {
    "collapsed": false
   },
   "outputs": [],
   "source": [
    "subject = ['I', 'Name', 'He', 'She', 'They', 'We', 'The goldfish','The shoe']\n",
    "verbphrase = ['broke the', 'stumbled into the', 'hid behind the', 'laughed at the', 'whispered to the','ignored the','yelled at the']\n",
    "adjective = ['cardboard', 'smelly', 'blue', 'orange', 'red','haunted','despised','dilapidated', 'forgotten','rainbow']\n",
    "object = ['wall', 'box', 'fish bowl','house','room'] \n",
    "event = ['fell.','disappeared.','secretly gloated.', 'later regreted it.','cried.','decided against it.','quickly forgot about it.','knew it was pointless.']"
   ]
  },
  {
   "cell_type": "markdown",
   "metadata": {},
   "source": [
    "<b> [Choosing Elements]</b><br>\n",
    "Randomly choosing an element from each list. "
   ]
  },
  {
   "cell_type": "code",
   "execution_count": 2,
   "metadata": {
    "collapsed": false
   },
   "outputs": [],
   "source": [
    "import random\n",
    "a = []\n",
    "a.append(random.choice(subject))\n",
    "a.append(random.choice(verbphrase))\n",
    "a.append(random.choice(adjective))\n",
    "a.append(random.choice(object))\n",
    "a.append('and')\n",
    "a.append(random.choice(event))"
   ]
  },
  {
   "cell_type": "markdown",
   "metadata": {},
   "source": [
    "<b>[Combining data]</b><br>\n",
    "Combining elements to form a sentence.\n"
   ]
  },
  {
   "cell_type": "code",
   "execution_count": 3,
   "metadata": {
    "collapsed": false
   },
   "outputs": [
    {
     "data": {
      "text/plain": [
       "'They ignored the blue fish bowl and decided against it.'"
      ]
     },
     "execution_count": 3,
     "metadata": {},
     "output_type": "execute_result"
    }
   ],
   "source": [
    "' '.join(a)"
   ]
  }
 ],
 "metadata": {
  "kernelspec": {
   "display_name": "Python [Root]",
   "language": "python",
   "name": "Python [Root]"
  },
  "language_info": {
   "codemirror_mode": {
    "name": "ipython",
    "version": 2
   },
   "file_extension": ".py",
   "mimetype": "text/x-python",
   "name": "python",
   "nbconvert_exporter": "python",
   "pygments_lexer": "ipython2",
   "version": "2.7.12"
  }
 },
 "nbformat": 4,
 "nbformat_minor": 0
}
